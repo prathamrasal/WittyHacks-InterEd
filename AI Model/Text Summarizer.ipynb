{
 "cells": [
  {
   "cell_type": "code",
   "execution_count": 23,
   "id": "7dfefe5b",
   "metadata": {},
   "outputs": [],
   "source": [
    "from sumy.parsers.plaintext import PlaintextParser\n",
    "from sumy.nlp.tokenizers import Tokenizer\n",
    "from sumy.summarizers.lex_rank import LexRankSummarizer"
   ]
  },
  {
   "cell_type": "code",
   "execution_count": 25,
   "id": "57842ec3",
   "metadata": {},
   "outputs": [],
   "source": [
    "def sumy_method(text):\n",
    "    parser = PlaintextParser.from_string(text, Tokenizer(\"english\"))\n",
    "    summarizer = LexRankSummarizer()\n",
    "    #Summarize the document with 2 sentences\n",
    "    summary = summarizer(parser.document, 2)\n",
    "    dp = []   \n",
    "    for i in summary:\n",
    "      lp = str(i)\n",
    "    dp.append(lp)\n",
    "    final_sentence = ' '.join(dp)\n",
    "    return final_sentence"
   ]
  },
  {
   "cell_type": "code",
   "execution_count": 26,
   "id": "c578ea3e",
   "metadata": {},
   "outputs": [
    {
     "data": {
      "text/plain": [
       "'Supporting her 1999 album R2K, it was promoted by Viva Concerts with Velasquez serving as stage and creative director.'"
      ]
     },
     "execution_count": 26,
     "metadata": {},
     "output_type": "execute_result"
    }
   ],
   "source": [
    "sumy_method(\"R2K: The Concert was an arena concert by Filipina entertainer Regine Velasquez held on April 7 and 8, 2000, at the Araneta Coliseum in Quezon City. Supporting her 1999 album R2K, it was promoted by Viva Concerts with Velasquez serving as stage and creative director. In contrast to her previous smaller venue outings, the concert was her first performance in a large-scale indoor arena. It featured a 360-degree configuration with a semi-circular plexiglass stage, four large video screens, and an automated flying rig used during an aerial performance (pictured). The costumes were designed by Rajo Laurel, inspired by Dolce & Gabbana's print-on-print collection. She performed numerous selections from R2K, with additional songs from her older albums and various covers of pop hits. The concert was critically praised for its modern production and Velasquez's vocal abilities, showmanship, and wardrobe. She earned an Aliw Award for Best Female Major Concert Act for the show.\")"
   ]
  },
  {
   "cell_type": "code",
   "execution_count": null,
   "id": "495d00e8",
   "metadata": {},
   "outputs": [],
   "source": []
  }
 ],
 "metadata": {
  "kernelspec": {
   "display_name": "Python 3 (ipykernel)",
   "language": "python",
   "name": "python3"
  },
  "language_info": {
   "codemirror_mode": {
    "name": "ipython",
    "version": 3
   },
   "file_extension": ".py",
   "mimetype": "text/x-python",
   "name": "python",
   "nbconvert_exporter": "python",
   "pygments_lexer": "ipython3",
   "version": "3.10.9"
  }
 },
 "nbformat": 4,
 "nbformat_minor": 5
}
